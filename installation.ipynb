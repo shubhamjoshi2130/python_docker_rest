{
 "metadata": {
  "language_info": {
   "codemirror_mode": {
    "name": "ipython",
    "version": 3
   },
   "file_extension": ".py",
   "mimetype": "text/x-python",
   "name": "python",
   "nbconvert_exporter": "python",
   "pygments_lexer": "ipython3",
   "version": "3.8.0-final"
  },
  "orig_nbformat": 2,
  "kernelspec": {
   "name": "python3",
   "display_name": "Python 3.8.0 64-bit",
   "metadata": {
    "interpreter": {
     "hash": "7164bf8e2a8b5908e57c2aa142b1d0e4a32e7424dc79c76962088d1d82a4d864"
    }
   }
  }
 },
 "nbformat": 4,
 "nbformat_minor": 2,
 "cells": [
  {
   "cell_type": "code",
   "execution_count": 1,
   "metadata": {},
   "outputs": [
    {
     "output_type": "stream",
     "name": "stdout",
     "text": [
      "Requirement already satisfied: flask in c:\\users\\sneha\\appdata\\local\\programs\\python\\python38\\lib\\site-packages (1.1.2)\n",
      "Requirement already satisfied: Werkzeug>=0.15 in c:\\users\\sneha\\appdata\\local\\programs\\python\\python38\\lib\\site-packages (from flask) (1.0.1)\n",
      "Requirement already satisfied: itsdangerous>=0.24 in c:\\users\\sneha\\appdata\\local\\programs\\python\\python38\\lib\\site-packages (from flask) (1.1.0)\n",
      "Requirement already satisfied: click>=5.1 in c:\\users\\sneha\\appdata\\local\\programs\\python\\python38\\lib\\site-packages (from flask) (7.1.2)\n",
      "Requirement already satisfied: Jinja2>=2.10.1 in c:\\users\\sneha\\appdata\\local\\programs\\python\\python38\\lib\\site-packages (from flask) (2.11.3)\n",
      "Requirement already satisfied: MarkupSafe>=0.23 in c:\\users\\sneha\\appdata\\local\\programs\\python\\python38\\lib\\site-packages (from Jinja2>=2.10.1->flask) (1.1.1)\n",
      "Note: you may need to restart the kernel to use updated packages.\n",
      "WARNING: You are using pip version 19.2.3, however version 21.0.1 is available.\n",
      "You should consider upgrading via the 'python -m pip install --upgrade pip' command.\n"
     ]
    }
   ],
   "source": [
    "pip install flask"
   ]
  },
  {
   "cell_type": "code",
   "execution_count": 2,
   "metadata": {},
   "outputs": [
    {
     "output_type": "stream",
     "name": "stdout",
     "text": [
      "Collecting flask_restful\n",
      "  Downloading https://files.pythonhosted.org/packages/e9/83/d0d33c971de2d38e54b0037136c8b8d20b9c83d308bc6c220a25162755fd/Flask_RESTful-0.3.8-py2.py3-none-any.whl\n",
      "Requirement already satisfied: six>=1.3.0 in c:\\users\\sneha\\appdata\\roaming\\python\\python38\\site-packages (from flask_restful) (1.15.0)\n",
      "Requirement already satisfied: Flask>=0.8 in c:\\users\\sneha\\appdata\\local\\programs\\python\\python38\\lib\\site-packages (from flask_restful) (1.1.2)\n",
      "Requirement already satisfied: pytz in c:\\users\\sneha\\appdata\\local\\programs\\python\\python38\\lib\\site-packages (from flask_restful) (2021.1)\n",
      "Collecting aniso8601>=0.82 (from flask_restful)\n",
      "  Downloading https://files.pythonhosted.org/packages/e3/04/e97c12dc034791d7b504860acfcdd2963fa21ae61eaca1c9d31245f812c3/aniso8601-9.0.1-py2.py3-none-any.whl (52kB)\n",
      "Requirement already satisfied: Werkzeug>=0.15 in c:\\users\\sneha\\appdata\\local\\programs\\python\\python38\\lib\\site-packages (from Flask>=0.8->flask_restful) (1.0.1)\n",
      "Requirement already satisfied: itsdangerous>=0.24 in c:\\users\\sneha\\appdata\\local\\programs\\python\\python38\\lib\\site-packages (from Flask>=0.8->flask_restful) (1.1.0)\n",
      "Requirement already satisfied: click>=5.1 in c:\\users\\sneha\\appdata\\local\\programs\\python\\python38\\lib\\site-packages (from Flask>=0.8->flask_restful) (7.1.2)\n",
      "Requirement already satisfied: Jinja2>=2.10.1 in c:\\users\\sneha\\appdata\\local\\programs\\python\\python38\\lib\\site-packages (from Flask>=0.8->flask_restful) (2.11.3)\n",
      "Requirement already satisfied: MarkupSafe>=0.23 in c:\\users\\sneha\\appdata\\local\\programs\\python\\python38\\lib\\site-packages (from Jinja2>=2.10.1->Flask>=0.8->flask_restful) (1.1.1)\n",
      "Installing collected packages: aniso8601, flask-restful\n",
      "Successfully installed aniso8601-9.0.1 flask-restful-0.3.8\n",
      "Note: you may need to restart the kernel to use updated packages.\n",
      "WARNING: You are using pip version 19.2.3, however version 21.0.1 is available.\n",
      "You should consider upgrading via the 'python -m pip install --upgrade pip' command.\n"
     ]
    }
   ],
   "source": [
    "pip install flask_restful"
   ]
  }
 ]
}